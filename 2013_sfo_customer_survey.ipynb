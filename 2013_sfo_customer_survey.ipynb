{
 "cells": [
  {
   "cell_type": "code",
   "execution_count": 1,
   "metadata": {},
   "outputs": [
    {
     "name": "stderr",
     "output_type": "stream",
     "text": [
      "/home/yungshun/.virtualenvs/yungshun-py3/lib/python3.5/importlib/_bootstrap.py:222: RuntimeWarning: numpy.dtype size changed, may indicate binary incompatibility. Expected 96, got 88\n",
      "  return f(*args, **kwds)\n",
      "/home/yungshun/.virtualenvs/yungshun-py3/lib/python3.5/importlib/_bootstrap.py:222: RuntimeWarning: numpy.dtype size changed, may indicate binary incompatibility. Expected 96, got 88\n",
      "  return f(*args, **kwds)\n",
      "/home/yungshun/.virtualenvs/yungshun-py3/lib/python3.5/importlib/_bootstrap.py:222: RuntimeWarning: numpy.dtype size changed, may indicate binary incompatibility. Expected 96, got 88\n",
      "  return f(*args, **kwds)\n"
     ]
    }
   ],
   "source": [
    "import numpy as np\n",
    "import pandas as pd\n",
    "import matplotlib.pyplot as plt\n",
    "import seaborn as sns\n",
    "%matplotlib inline\n",
    "plt.style.use('fivethirtyeight')"
   ]
  },
  {
   "cell_type": "markdown",
   "metadata": {},
   "source": [
    "# 2013 SFO Customer Survey"
   ]
  },
  {
   "cell_type": "markdown",
   "metadata": {},
   "source": [
    "SFO conducts a yearly comprehensive survey of our guests to gauge satisfaction with our facilities, services, and amenities. SFO compares results to previous surveys to look for areas of improvement and discover elements of the guest experience that are not satisfactory."
   ]
  },
  {
   "cell_type": "markdown",
   "metadata": {},
   "source": [
    "## Data Organizing"
   ]
  },
  {
   "cell_type": "code",
   "execution_count": 3,
   "metadata": {},
   "outputs": [],
   "source": [
    "# Load in the data set\n",
    "customer = pd.read_csv('/home/yungshun/workspace/py3/feature-understanding/datasets/2013_SFO_Customer_Survey.csv')"
   ]
  },
  {
   "cell_type": "code",
   "execution_count": 4,
   "metadata": {
    "scrolled": true
   },
   "outputs": [
    {
     "name": "stdout",
     "output_type": "stream",
     "text": [
      "<class 'pandas.core.frame.DataFrame'>\n",
      "RangeIndex: 3535 entries, 0 to 3534\n",
      "Data columns (total 95 columns):\n",
      "RESPNUM            3535 non-null int64\n",
      "CCGID              3535 non-null object\n",
      "RUN                3535 non-null int64\n",
      "INTDATE            3535 non-null int64\n",
      "GATE               3535 non-null int64\n",
      "STRATA             3535 non-null int64\n",
      "PEAK               3535 non-null int64\n",
      "METHOD             3535 non-null int64\n",
      "AIRLINE            3535 non-null int64\n",
      "FLIGHT             3535 non-null int64\n",
      "DEST               3535 non-null int64\n",
      "DESTGEO            3535 non-null int64\n",
      "DESTMARK           3535 non-null int64\n",
      "ARRTIME            3535 non-null object\n",
      "DEPTIME            3535 non-null object\n",
      "Q2PURP1            3535 non-null int64\n",
      "Q2PURP2            3459 non-null float64\n",
      "Q2PURP3            163 non-null float64\n",
      "Q2PURP4            17 non-null float64\n",
      "Q2PURP5            2 non-null float64\n",
      "Q2PURP6            0 non-null float64\n",
      "Q3GETTO1           3535 non-null int64\n",
      "Q3GETTO2           3505 non-null float64\n",
      "Q3GETTO3           17 non-null float64\n",
      "Q3GETTO4           1 non-null float64\n",
      "Q3GETTO5           0 non-null float64\n",
      "Q3GETTO6           0 non-null float64\n",
      "Q3PARK             284 non-null float64\n",
      "Q4BAGS             3535 non-null int64\n",
      "Q4BUY              3535 non-null int64\n",
      "Q4FOOD             3535 non-null int64\n",
      "Q4WIFI             3535 non-null int64\n",
      "Q5FLYPERYR         3535 non-null int64\n",
      "Q6TENURE           3535 non-null float64\n",
      "SAQ                3535 non-null int64\n",
      "Q7A_ART            3535 non-null int64\n",
      "Q7B_FOOD           3535 non-null int64\n",
      "Q7C_SHOPS          3535 non-null int64\n",
      "Q7D_SIGNS          3535 non-null int64\n",
      "Q7E_WALK           3535 non-null int64\n",
      "Q7F_SCREENS        3535 non-null int64\n",
      "Q7G_INFOARR        3535 non-null int64\n",
      "Q7H_INFODEP        3535 non-null int64\n",
      "Q7I_WIFI           3535 non-null int64\n",
      "Q7J_ROAD           3535 non-null int64\n",
      "Q7K_PARK           3535 non-null int64\n",
      "Q7L_AIRTRAIN       3535 non-null int64\n",
      "Q7M_LTPARK         3535 non-null int64\n",
      "Q7N_RENTAL         3535 non-null int64\n",
      "Q7O_WHOLE          3535 non-null int64\n",
      "Q8COM1             1495 non-null float64\n",
      "Q8COM2             308 non-null float64\n",
      "Q8COM3             59 non-null float64\n",
      "Q9A_CLNBOARD       3535 non-null int64\n",
      "Q9B_CLNAIRTRAIN    3535 non-null int64\n",
      "Q9C_CLNRENT        3535 non-null int64\n",
      "Q9D_CLNFOOD        3535 non-null int64\n",
      "Q9E_CLNBATH        3535 non-null int64\n",
      "Q9F_CLNWHOLE       3535 non-null int64\n",
      "Q9COM1             180 non-null float64\n",
      "Q9COM2             4 non-null float64\n",
      "Q9COM3             4 non-null float64\n",
      "Q10SAFE            3535 non-null int64\n",
      "Q10COM1            1683 non-null float64\n",
      "Q10COM2            221 non-null float64\n",
      "Q10COM3            14 non-null float64\n",
      "Q11A_USEWEB        3535 non-null int64\n",
      "Q11B_USESFOAPP     3535 non-null int64\n",
      "Q11C_USEOTHAPP     3535 non-null int64\n",
      "Q11D_USESOCMED     3535 non-null int64\n",
      "Q11E_USEWIFI       3535 non-null int64\n",
      "Q12COM1            706 non-null float64\n",
      "Q12COM2            75 non-null float64\n",
      "Q12COM3            2 non-null float64\n",
      "Q13_WHEREDEPART    3535 non-null int64\n",
      "Q13_RATEGETTO      3535 non-null int64\n",
      "Q14A_FIND          3535 non-null int64\n",
      "Q14B_SECURITY      3535 non-null int64\n",
      "Q15_PROBLEMS       3535 non-null int64\n",
      "Q15COM1            389 non-null float64\n",
      "Q15COM2            21 non-null float64\n",
      "Q15COM3            1 non-null float64\n",
      "Q16_REGION         3535 non-null int64\n",
      "Q17_CITY           3234 non-null object\n",
      "Q17_ZIP            2276 non-null float64\n",
      "Q17_COUNTRY        3410 non-null object\n",
      "HOME               3535 non-null int64\n",
      "Q18_AGE            3535 non-null int64\n",
      "Q19_SEX            3535 non-null int64\n",
      "Q20_INCOME         3535 non-null int64\n",
      "Q21_HIFLYER        3535 non-null int64\n",
      "Q22A_USESJC        3535 non-null int64\n",
      "Q22B_USEOAK        3535 non-null int64\n",
      "LANG               3535 non-null int64\n",
      "WEIGHT             3535 non-null float64\n",
      "dtypes: float64(29), int64(61), object(5)\n",
      "memory usage: 2.6+ MB\n"
     ]
    }
   ],
   "source": [
    "# Get a sense of how many rows of data there are, if there are any missing values, and what data type each column has\n",
    "customer.info()"
   ]
  },
  {
   "cell_type": "code",
   "execution_count": 5,
   "metadata": {},
   "outputs": [
    {
     "data": {
      "text/plain": [
       "RESPNUM               0\n",
       "CCGID                 0\n",
       "RUN                   0\n",
       "INTDATE               0\n",
       "GATE                  0\n",
       "STRATA                0\n",
       "PEAK                  0\n",
       "METHOD                0\n",
       "AIRLINE               0\n",
       "FLIGHT                0\n",
       "DEST                  0\n",
       "DESTGEO               0\n",
       "DESTMARK              0\n",
       "ARRTIME               0\n",
       "DEPTIME               0\n",
       "Q2PURP1               0\n",
       "Q2PURP2              76\n",
       "Q2PURP3            3372\n",
       "Q2PURP4            3518\n",
       "Q2PURP5            3533\n",
       "Q2PURP6            3535\n",
       "Q3GETTO1              0\n",
       "Q3GETTO2             30\n",
       "Q3GETTO3           3518\n",
       "Q3GETTO4           3534\n",
       "Q3GETTO5           3535\n",
       "Q3GETTO6           3535\n",
       "Q3PARK             3251\n",
       "Q4BAGS                0\n",
       "Q4BUY                 0\n",
       "                   ... \n",
       "Q10COM3            3521\n",
       "Q11A_USEWEB           0\n",
       "Q11B_USESFOAPP        0\n",
       "Q11C_USEOTHAPP        0\n",
       "Q11D_USESOCMED        0\n",
       "Q11E_USEWIFI          0\n",
       "Q12COM1            2829\n",
       "Q12COM2            3460\n",
       "Q12COM3            3533\n",
       "Q13_WHEREDEPART       0\n",
       "Q13_RATEGETTO         0\n",
       "Q14A_FIND             0\n",
       "Q14B_SECURITY         0\n",
       "Q15_PROBLEMS          0\n",
       "Q15COM1            3146\n",
       "Q15COM2            3514\n",
       "Q15COM3            3534\n",
       "Q16_REGION            0\n",
       "Q17_CITY            301\n",
       "Q17_ZIP            1259\n",
       "Q17_COUNTRY         125\n",
       "HOME                  0\n",
       "Q18_AGE               0\n",
       "Q19_SEX               0\n",
       "Q20_INCOME            0\n",
       "Q21_HIFLYER           0\n",
       "Q22A_USESJC           0\n",
       "Q22B_USEOAK           0\n",
       "LANG                  0\n",
       "WEIGHT                0\n",
       "Length: 95, dtype: int64"
      ]
     },
     "execution_count": 5,
     "metadata": {},
     "output_type": "execute_result"
    }
   ],
   "source": [
    "# Another method to check for missing values\n",
    "customer.isnull().sum()"
   ]
  }
 ],
 "metadata": {
  "kernelspec": {
   "display_name": "Python 3",
   "language": "python",
   "name": "python3"
  },
  "language_info": {
   "codemirror_mode": {
    "name": "ipython",
    "version": 3
   },
   "file_extension": ".py",
   "mimetype": "text/x-python",
   "name": "python",
   "nbconvert_exporter": "python",
   "pygments_lexer": "ipython3",
   "version": "3.5.2"
  }
 },
 "nbformat": 4,
 "nbformat_minor": 2
}
