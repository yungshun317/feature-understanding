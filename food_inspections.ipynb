{
 "cells": [
  {
   "cell_type": "code",
   "execution_count": 1,
   "metadata": {},
   "outputs": [
    {
     "name": "stderr",
     "output_type": "stream",
     "text": [
      "/home/yungshun/.virtualenvs/yungshun-py3/lib/python3.5/importlib/_bootstrap.py:222: RuntimeWarning: numpy.dtype size changed, may indicate binary incompatibility. Expected 96, got 88\n",
      "  return f(*args, **kwds)\n",
      "/home/yungshun/.virtualenvs/yungshun-py3/lib/python3.5/importlib/_bootstrap.py:222: RuntimeWarning: numpy.dtype size changed, may indicate binary incompatibility. Expected 96, got 88\n",
      "  return f(*args, **kwds)\n",
      "/home/yungshun/.virtualenvs/yungshun-py3/lib/python3.5/importlib/_bootstrap.py:222: RuntimeWarning: numpy.dtype size changed, may indicate binary incompatibility. Expected 96, got 88\n",
      "  return f(*args, **kwds)\n"
     ]
    }
   ],
   "source": [
    "import numpy as np\n",
    "import pandas as pd\n",
    "import matplotlib.pyplot as plt\n",
    "import seaborn as sns\n",
    "%matplotlib inline\n",
    "plt.style.use('fivethirtyeight')"
   ]
  },
  {
   "cell_type": "markdown",
   "metadata": {},
   "source": [
    "# Food Inspections"
   ]
  },
  {
   "cell_type": "markdown",
   "metadata": {},
   "source": [
    "This information is derived from inspections of restaurants and other food establishments in Chicago from January 1, 2010 to the present. Inspections are performed by staff from the Chicago Department of Public Health’s Food Protection Program using a standardized procedure. The results of the inspection are inputted into a database, then reviewed and approved by a State of Illinois Licensed Environmental Health Practitioner (LEHP)."
   ]
  },
  {
   "cell_type": "code",
   "execution_count": 2,
   "metadata": {},
   "outputs": [],
   "source": [
    "# Load in the data set\n",
    "food = pd.read_csv('/home/yungshun/workspace/py3/feature-understanding/datasets/Food_Inspections.csv')"
   ]
  },
  {
   "cell_type": "code",
   "execution_count": 5,
   "metadata": {},
   "outputs": [
    {
     "data": {
      "text/html": [
       "<div>\n",
       "<style scoped>\n",
       "    .dataframe tbody tr th:only-of-type {\n",
       "        vertical-align: middle;\n",
       "    }\n",
       "\n",
       "    .dataframe tbody tr th {\n",
       "        vertical-align: top;\n",
       "    }\n",
       "\n",
       "    .dataframe thead th {\n",
       "        text-align: right;\n",
       "    }\n",
       "</style>\n",
       "<table border=\"1\" class=\"dataframe\">\n",
       "  <thead>\n",
       "    <tr style=\"text-align: right;\">\n",
       "      <th></th>\n",
       "      <th>Inspection ID</th>\n",
       "      <th>DBA Name</th>\n",
       "      <th>AKA Name</th>\n",
       "      <th>License #</th>\n",
       "      <th>Facility Type</th>\n",
       "      <th>Risk</th>\n",
       "      <th>Address</th>\n",
       "      <th>City</th>\n",
       "      <th>State</th>\n",
       "      <th>Zip</th>\n",
       "      <th>Inspection Date</th>\n",
       "      <th>Inspection Type</th>\n",
       "      <th>Results</th>\n",
       "      <th>Violations</th>\n",
       "      <th>Latitude</th>\n",
       "      <th>Longitude</th>\n",
       "      <th>Location</th>\n",
       "    </tr>\n",
       "  </thead>\n",
       "  <tbody>\n",
       "    <tr>\n",
       "      <th>0</th>\n",
       "      <td>2213756</td>\n",
       "      <td>EL SABOR POBLANO</td>\n",
       "      <td>EL SABOR POBLANO</td>\n",
       "      <td>2617275.0</td>\n",
       "      <td>Restaurant</td>\n",
       "      <td>Risk 1 (High)</td>\n",
       "      <td>7027 N CLARK ST</td>\n",
       "      <td>CHICAGO</td>\n",
       "      <td>IL</td>\n",
       "      <td>60626.0</td>\n",
       "      <td>08/31/2018</td>\n",
       "      <td>License Re-Inspection</td>\n",
       "      <td>Pass w/ Conditions</td>\n",
       "      <td>3. MANAGEMENT, FOOD EMPLOYEE AND CONDITIONAL E...</td>\n",
       "      <td>42.009856</td>\n",
       "      <td>-87.674012</td>\n",
       "      <td>(42.009855708692335, -87.6740120532957)</td>\n",
       "    </tr>\n",
       "    <tr>\n",
       "      <th>1</th>\n",
       "      <td>2213748</td>\n",
       "      <td>COZY NOODLES &amp; RICE</td>\n",
       "      <td>COZY NOODLES &amp; RICE</td>\n",
       "      <td>1384276.0</td>\n",
       "      <td>Restaurant</td>\n",
       "      <td>Risk 1 (High)</td>\n",
       "      <td>3456 N SHEFFIELD AVE</td>\n",
       "      <td>CHICAGO</td>\n",
       "      <td>IL</td>\n",
       "      <td>60657.0</td>\n",
       "      <td>08/31/2018</td>\n",
       "      <td>Complaint Re-Inspection</td>\n",
       "      <td>Pass w/ Conditions</td>\n",
       "      <td>5. PROCEDURES FOR RESPONDING TO VOMITING AND D...</td>\n",
       "      <td>41.945108</td>\n",
       "      <td>-87.654412</td>\n",
       "      <td>(41.94510810433101, -87.65441181641037)</td>\n",
       "    </tr>\n",
       "  </tbody>\n",
       "</table>\n",
       "</div>"
      ],
      "text/plain": [
       "   Inspection ID             DBA Name             AKA Name  License #  \\\n",
       "0        2213756     EL SABOR POBLANO     EL SABOR POBLANO  2617275.0   \n",
       "1        2213748  COZY NOODLES & RICE  COZY NOODLES & RICE  1384276.0   \n",
       "\n",
       "  Facility Type           Risk                Address     City State      Zip  \\\n",
       "0    Restaurant  Risk 1 (High)       7027 N CLARK ST   CHICAGO    IL  60626.0   \n",
       "1    Restaurant  Risk 1 (High)  3456 N SHEFFIELD AVE   CHICAGO    IL  60657.0   \n",
       "\n",
       "  Inspection Date          Inspection Type             Results  \\\n",
       "0      08/31/2018    License Re-Inspection  Pass w/ Conditions   \n",
       "1      08/31/2018  Complaint Re-Inspection  Pass w/ Conditions   \n",
       "\n",
       "                                          Violations   Latitude  Longitude  \\\n",
       "0  3. MANAGEMENT, FOOD EMPLOYEE AND CONDITIONAL E...  42.009856 -87.674012   \n",
       "1  5. PROCEDURES FOR RESPONDING TO VOMITING AND D...  41.945108 -87.654412   \n",
       "\n",
       "                                  Location  \n",
       "0  (42.009855708692335, -87.6740120532957)  \n",
       "1  (41.94510810433101, -87.65441181641037)  "
      ]
     },
     "execution_count": 5,
     "metadata": {},
     "output_type": "execute_result"
    }
   ],
   "source": [
    "# View the first few rows and the headers\n",
    "food.head(2)"
   ]
  },
  {
   "cell_type": "code",
   "execution_count": 3,
   "metadata": {
    "scrolled": true
   },
   "outputs": [
    {
     "name": "stdout",
     "output_type": "stream",
     "text": [
      "<class 'pandas.core.frame.DataFrame'>\n",
      "RangeIndex: 174498 entries, 0 to 174497\n",
      "Data columns (total 17 columns):\n",
      "Inspection ID      174498 non-null int64\n",
      "DBA Name           174498 non-null object\n",
      "AKA Name           172055 non-null object\n",
      "License #          174482 non-null float64\n",
      "Facility Type      169802 non-null object\n",
      "Risk               174429 non-null object\n",
      "Address            174498 non-null object\n",
      "City               174343 non-null object\n",
      "State              174470 non-null object\n",
      "Zip                174425 non-null float64\n",
      "Inspection Date    174498 non-null object\n",
      "Inspection Type    174497 non-null object\n",
      "Results            174498 non-null object\n",
      "Violations         127635 non-null object\n",
      "Latitude           173854 non-null float64\n",
      "Longitude          173854 non-null float64\n",
      "Location           173854 non-null object\n",
      "dtypes: float64(4), int64(1), object(12)\n",
      "memory usage: 22.6+ MB\n"
     ]
    }
   ],
   "source": [
    "# Get a sense of how many rows of data there are, if there are any missing values, and what data type each column has\n",
    "food.info()"
   ]
  },
  {
   "cell_type": "code",
   "execution_count": 4,
   "metadata": {
    "scrolled": true
   },
   "outputs": [
    {
     "data": {
      "text/plain": [
       "Inspection ID          0\n",
       "DBA Name               0\n",
       "AKA Name            2443\n",
       "License #             16\n",
       "Facility Type       4696\n",
       "Risk                  69\n",
       "Address                0\n",
       "City                 155\n",
       "State                 28\n",
       "Zip                   73\n",
       "Inspection Date        0\n",
       "Inspection Type        1\n",
       "Results                0\n",
       "Violations         46863\n",
       "Latitude             644\n",
       "Longitude            644\n",
       "Location             644\n",
       "dtype: int64"
      ]
     },
     "execution_count": 4,
     "metadata": {},
     "output_type": "execute_result"
    }
   ],
   "source": [
    "# Another method to check for missing values\n",
    "food.isnull().sum()"
   ]
  },
  {
   "cell_type": "code",
   "execution_count": 8,
   "metadata": {},
   "outputs": [
    {
     "data": {
      "text/html": [
       "<div>\n",
       "<style scoped>\n",
       "    .dataframe tbody tr th:only-of-type {\n",
       "        vertical-align: middle;\n",
       "    }\n",
       "\n",
       "    .dataframe tbody tr th {\n",
       "        vertical-align: top;\n",
       "    }\n",
       "\n",
       "    .dataframe thead th {\n",
       "        text-align: right;\n",
       "    }\n",
       "</style>\n",
       "<table border=\"1\" class=\"dataframe\">\n",
       "  <thead>\n",
       "    <tr style=\"text-align: right;\">\n",
       "      <th></th>\n",
       "      <th>Inspection ID</th>\n",
       "      <th>License #</th>\n",
       "      <th>Zip</th>\n",
       "      <th>Latitude</th>\n",
       "      <th>Longitude</th>\n",
       "    </tr>\n",
       "  </thead>\n",
       "  <tbody>\n",
       "    <tr>\n",
       "      <th>count</th>\n",
       "      <td>1.744980e+05</td>\n",
       "      <td>1.744820e+05</td>\n",
       "      <td>174425.000000</td>\n",
       "      <td>173854.000000</td>\n",
       "      <td>173854.000000</td>\n",
       "    </tr>\n",
       "    <tr>\n",
       "      <th>mean</th>\n",
       "      <td>1.343840e+06</td>\n",
       "      <td>1.556188e+06</td>\n",
       "      <td>60628.975714</td>\n",
       "      <td>41.880792</td>\n",
       "      <td>-87.676428</td>\n",
       "    </tr>\n",
       "    <tr>\n",
       "      <th>std</th>\n",
       "      <td>5.976811e+05</td>\n",
       "      <td>8.874371e+05</td>\n",
       "      <td>22.660722</td>\n",
       "      <td>0.080741</td>\n",
       "      <td>0.058748</td>\n",
       "    </tr>\n",
       "    <tr>\n",
       "      <th>min</th>\n",
       "      <td>4.424700e+04</td>\n",
       "      <td>0.000000e+00</td>\n",
       "      <td>60007.000000</td>\n",
       "      <td>41.644670</td>\n",
       "      <td>-87.914428</td>\n",
       "    </tr>\n",
       "    <tr>\n",
       "      <th>25%</th>\n",
       "      <td>1.098571e+06</td>\n",
       "      <td>1.167172e+06</td>\n",
       "      <td>60614.000000</td>\n",
       "      <td>41.832144</td>\n",
       "      <td>-87.707598</td>\n",
       "    </tr>\n",
       "    <tr>\n",
       "      <th>50%</th>\n",
       "      <td>1.434308e+06</td>\n",
       "      <td>1.948193e+06</td>\n",
       "      <td>60625.000000</td>\n",
       "      <td>41.891689</td>\n",
       "      <td>-87.666366</td>\n",
       "    </tr>\n",
       "    <tr>\n",
       "      <th>75%</th>\n",
       "      <td>1.938004e+06</td>\n",
       "      <td>2.203552e+06</td>\n",
       "      <td>60643.000000</td>\n",
       "      <td>41.939659</td>\n",
       "      <td>-87.634804</td>\n",
       "    </tr>\n",
       "    <tr>\n",
       "      <th>max</th>\n",
       "      <td>2.213756e+06</td>\n",
       "      <td>9.999999e+06</td>\n",
       "      <td>60827.000000</td>\n",
       "      <td>42.021064</td>\n",
       "      <td>-87.525094</td>\n",
       "    </tr>\n",
       "  </tbody>\n",
       "</table>\n",
       "</div>"
      ],
      "text/plain": [
       "       Inspection ID     License #            Zip       Latitude  \\\n",
       "count   1.744980e+05  1.744820e+05  174425.000000  173854.000000   \n",
       "mean    1.343840e+06  1.556188e+06   60628.975714      41.880792   \n",
       "std     5.976811e+05  8.874371e+05      22.660722       0.080741   \n",
       "min     4.424700e+04  0.000000e+00   60007.000000      41.644670   \n",
       "25%     1.098571e+06  1.167172e+06   60614.000000      41.832144   \n",
       "50%     1.434308e+06  1.948193e+06   60625.000000      41.891689   \n",
       "75%     1.938004e+06  2.203552e+06   60643.000000      41.939659   \n",
       "max     2.213756e+06  9.999999e+06   60827.000000      42.021064   \n",
       "\n",
       "           Longitude  \n",
       "count  173854.000000  \n",
       "mean      -87.676428  \n",
       "std         0.058748  \n",
       "min       -87.914428  \n",
       "25%       -87.707598  \n",
       "50%       -87.666366  \n",
       "75%       -87.634804  \n",
       "max       -87.525094  "
      ]
     },
     "execution_count": 8,
     "metadata": {},
     "output_type": "execute_result"
    }
   ],
   "source": [
    "# Show descriptive stats\n",
    "food.describe()"
   ]
  },
  {
   "cell_type": "markdown",
   "metadata": {},
   "source": [
    "### Qualitative data"
   ]
  },
  {
   "cell_type": "code",
   "execution_count": 6,
   "metadata": {},
   "outputs": [
    {
     "data": {
      "text/plain": [
       "array(['Pass w/ Conditions', 'No Entry', 'Out of Business', 'Pass',\n",
       "       'Fail', 'Not Ready', 'Business Not Located'], dtype=object)"
      ]
     },
     "execution_count": 6,
     "metadata": {},
     "output_type": "execute_result"
    }
   ],
   "source": [
    "food['Results'].unique()"
   ]
  },
  {
   "cell_type": "code",
   "execution_count": 7,
   "metadata": {},
   "outputs": [
    {
     "data": {
      "text/plain": [
       "array(['Risk 1 (High)', 'Risk 2 (Medium)', 'Risk 3 (Low)', 'All', nan],\n",
       "      dtype=object)"
      ]
     },
     "execution_count": 7,
     "metadata": {},
     "output_type": "execute_result"
    }
   ],
   "source": [
    "food['Risk'].unique()"
   ]
  }
 ],
 "metadata": {
  "kernelspec": {
   "display_name": "Python 3",
   "language": "python",
   "name": "python3"
  },
  "language_info": {
   "codemirror_mode": {
    "name": "ipython",
    "version": 3
   },
   "file_extension": ".py",
   "mimetype": "text/x-python",
   "name": "python",
   "nbconvert_exporter": "python",
   "pygments_lexer": "ipython3",
   "version": "3.5.2"
  }
 },
 "nbformat": 4,
 "nbformat_minor": 2
}
