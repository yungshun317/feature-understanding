{
 "cells": [
  {
   "cell_type": "code",
   "execution_count": 2,
   "metadata": {},
   "outputs": [],
   "source": [
    "import numpy as np\n",
    "import pandas as pd\n",
    "import matplotlib.pyplot as plt\n",
    "import seaborn as sns\n",
    "%matplotlib inline\n",
    "plt.style.use('fivethirtyeight')"
   ]
  },
  {
   "cell_type": "markdown",
   "metadata": {},
   "source": [
    "# Salary Ranges by Job Classification"
   ]
  },
  {
   "cell_type": "markdown",
   "metadata": {},
   "source": [
    "Shows the job titles associated with job classifications. Used with the Job Titles by Classification and Employees by Classification.<br/>\n",
    "https://data.sfgov.org/City-Management-and-Ethics/Salary-Ranges-by-Job-Classification/7h4w-reyq"
   ]
  },
  {
   "cell_type": "markdown",
   "metadata": {},
   "source": [
    "## Data Organizing"
   ]
  },
  {
   "cell_type": "code",
   "execution_count": 4,
   "metadata": {},
   "outputs": [],
   "source": [
    "# Load in the dataset\n",
    "salary_ranges = pd.read_csv('/home/yungshun/workspace/py3/feature-understanding/datasets/Salary_Ranges_by_Job_Classification.csv')"
   ]
  },
  {
   "cell_type": "code",
   "execution_count": 5,
   "metadata": {},
   "outputs": [
    {
     "data": {
      "text/html": [
       "<div>\n",
       "<style scoped>\n",
       "    .dataframe tbody tr th:only-of-type {\n",
       "        vertical-align: middle;\n",
       "    }\n",
       "\n",
       "    .dataframe tbody tr th {\n",
       "        vertical-align: top;\n",
       "    }\n",
       "\n",
       "    .dataframe thead th {\n",
       "        text-align: right;\n",
       "    }\n",
       "</style>\n",
       "<table border=\"1\" class=\"dataframe\">\n",
       "  <thead>\n",
       "    <tr style=\"text-align: right;\">\n",
       "      <th></th>\n",
       "      <th>SetID</th>\n",
       "      <th>Job Code</th>\n",
       "      <th>Eff Date</th>\n",
       "      <th>Sal End Date</th>\n",
       "      <th>Salary SetID</th>\n",
       "      <th>Sal Plan</th>\n",
       "      <th>Grade</th>\n",
       "      <th>Step</th>\n",
       "      <th>Biweekly High Rate</th>\n",
       "      <th>Biweekly Low Rate</th>\n",
       "      <th>Union Code</th>\n",
       "      <th>Extended Step</th>\n",
       "      <th>Pay Type</th>\n",
       "    </tr>\n",
       "  </thead>\n",
       "  <tbody>\n",
       "    <tr>\n",
       "      <th>0</th>\n",
       "      <td>COMMN</td>\n",
       "      <td>0109</td>\n",
       "      <td>07/01/2009 12:00:00 AM</td>\n",
       "      <td>06/30/2010 12:00:00 AM</td>\n",
       "      <td>COMMN</td>\n",
       "      <td>SFM</td>\n",
       "      <td>00000</td>\n",
       "      <td>1</td>\n",
       "      <td>0.0</td>\n",
       "      <td>0.0</td>\n",
       "      <td>330</td>\n",
       "      <td>0</td>\n",
       "      <td>C</td>\n",
       "    </tr>\n",
       "    <tr>\n",
       "      <th>1</th>\n",
       "      <td>COMMN</td>\n",
       "      <td>0110</td>\n",
       "      <td>07/01/2009 12:00:00 AM</td>\n",
       "      <td>06/30/2010 12:00:00 AM</td>\n",
       "      <td>COMMN</td>\n",
       "      <td>SFM</td>\n",
       "      <td>00000</td>\n",
       "      <td>1</td>\n",
       "      <td>15.0</td>\n",
       "      <td>15.0</td>\n",
       "      <td>323</td>\n",
       "      <td>0</td>\n",
       "      <td>D</td>\n",
       "    </tr>\n",
       "  </tbody>\n",
       "</table>\n",
       "</div>"
      ],
      "text/plain": [
       "   SetID Job Code                Eff Date            Sal End Date  \\\n",
       "0  COMMN     0109  07/01/2009 12:00:00 AM  06/30/2010 12:00:00 AM   \n",
       "1  COMMN     0110  07/01/2009 12:00:00 AM  06/30/2010 12:00:00 AM   \n",
       "\n",
       "  Salary SetID Sal Plan  Grade  Step  Biweekly High Rate  Biweekly Low Rate  \\\n",
       "0        COMMN      SFM  00000     1                 0.0                0.0   \n",
       "1        COMMN      SFM  00000     1                15.0               15.0   \n",
       "\n",
       "   Union Code  Extended Step Pay Type  \n",
       "0         330              0        C  \n",
       "1         323              0        D  "
      ]
     },
     "execution_count": 5,
     "metadata": {},
     "output_type": "execute_result"
    }
   ],
   "source": [
    "# View the first few rows and the headers\n",
    "salary_ranges.head(2)"
   ]
  },
  {
   "cell_type": "code",
   "execution_count": 6,
   "metadata": {},
   "outputs": [
    {
     "name": "stdout",
     "output_type": "stream",
     "text": [
      "<class 'pandas.core.frame.DataFrame'>\n",
      "RangeIndex: 1356 entries, 0 to 1355\n",
      "Data columns (total 13 columns):\n",
      "SetID                 1356 non-null object\n",
      "Job Code              1356 non-null object\n",
      "Eff Date              1356 non-null object\n",
      "Sal End Date          1356 non-null object\n",
      "Salary SetID          1356 non-null object\n",
      "Sal Plan              1356 non-null object\n",
      "Grade                 1356 non-null object\n",
      "Step                  1356 non-null int64\n",
      "Biweekly High Rate    1356 non-null float64\n",
      "Biweekly Low Rate     1356 non-null float64\n",
      "Union Code            1356 non-null int64\n",
      "Extended Step         1356 non-null int64\n",
      "Pay Type              1356 non-null object\n",
      "dtypes: float64(2), int64(3), object(8)\n",
      "memory usage: 137.8+ KB\n"
     ]
    }
   ],
   "source": [
    "# Get a sense of how many rows of data there are, if there are any missing values, and what data type each column has\n",
    "salary_ranges.info()"
   ]
  },
  {
   "cell_type": "code",
   "execution_count": 7,
   "metadata": {},
   "outputs": [
    {
     "data": {
      "text/plain": [
       "SetID                 0\n",
       "Job Code              0\n",
       "Eff Date              0\n",
       "Sal End Date          0\n",
       "Salary SetID          0\n",
       "Sal Plan              0\n",
       "Grade                 0\n",
       "Step                  0\n",
       "Biweekly High Rate    0\n",
       "Biweekly Low Rate     0\n",
       "Union Code            0\n",
       "Extended Step         0\n",
       "Pay Type              0\n",
       "dtype: int64"
      ]
     },
     "execution_count": 7,
     "metadata": {},
     "output_type": "execute_result"
    }
   ],
   "source": [
    "# Another method to check for missing values\n",
    "salary_ranges.isnull().sum()"
   ]
  },
  {
   "cell_type": "code",
   "execution_count": 8,
   "metadata": {
    "scrolled": true
   },
   "outputs": [
    {
     "data": {
      "text/html": [
       "<div>\n",
       "<style scoped>\n",
       "    .dataframe tbody tr th:only-of-type {\n",
       "        vertical-align: middle;\n",
       "    }\n",
       "\n",
       "    .dataframe tbody tr th {\n",
       "        vertical-align: top;\n",
       "    }\n",
       "\n",
       "    .dataframe thead th {\n",
       "        text-align: right;\n",
       "    }\n",
       "</style>\n",
       "<table border=\"1\" class=\"dataframe\">\n",
       "  <thead>\n",
       "    <tr style=\"text-align: right;\">\n",
       "      <th></th>\n",
       "      <th>Step</th>\n",
       "      <th>Biweekly High Rate</th>\n",
       "      <th>Biweekly Low Rate</th>\n",
       "      <th>Union Code</th>\n",
       "      <th>Extended Step</th>\n",
       "    </tr>\n",
       "  </thead>\n",
       "  <tbody>\n",
       "    <tr>\n",
       "      <th>count</th>\n",
       "      <td>1356.000000</td>\n",
       "      <td>1356.000000</td>\n",
       "      <td>1356.000000</td>\n",
       "      <td>1356.000000</td>\n",
       "      <td>1356.000000</td>\n",
       "    </tr>\n",
       "    <tr>\n",
       "      <th>mean</th>\n",
       "      <td>1.294985</td>\n",
       "      <td>3161.727021</td>\n",
       "      <td>3754.652006</td>\n",
       "      <td>392.676991</td>\n",
       "      <td>0.150442</td>\n",
       "    </tr>\n",
       "    <tr>\n",
       "      <th>std</th>\n",
       "      <td>1.045816</td>\n",
       "      <td>1481.002904</td>\n",
       "      <td>1605.157054</td>\n",
       "      <td>338.100562</td>\n",
       "      <td>1.006734</td>\n",
       "    </tr>\n",
       "    <tr>\n",
       "      <th>min</th>\n",
       "      <td>1.000000</td>\n",
       "      <td>0.000000</td>\n",
       "      <td>0.000000</td>\n",
       "      <td>1.000000</td>\n",
       "      <td>0.000000</td>\n",
       "    </tr>\n",
       "    <tr>\n",
       "      <th>25%</th>\n",
       "      <td>1.000000</td>\n",
       "      <td>2145.000000</td>\n",
       "      <td>2607.000000</td>\n",
       "      <td>21.000000</td>\n",
       "      <td>0.000000</td>\n",
       "    </tr>\n",
       "    <tr>\n",
       "      <th>50%</th>\n",
       "      <td>1.000000</td>\n",
       "      <td>2856.500000</td>\n",
       "      <td>3465.000000</td>\n",
       "      <td>351.000000</td>\n",
       "      <td>0.000000</td>\n",
       "    </tr>\n",
       "    <tr>\n",
       "      <th>75%</th>\n",
       "      <td>1.000000</td>\n",
       "      <td>3703.000000</td>\n",
       "      <td>4484.000000</td>\n",
       "      <td>790.000000</td>\n",
       "      <td>0.000000</td>\n",
       "    </tr>\n",
       "    <tr>\n",
       "      <th>max</th>\n",
       "      <td>5.000000</td>\n",
       "      <td>12120.770000</td>\n",
       "      <td>12120.770000</td>\n",
       "      <td>990.000000</td>\n",
       "      <td>11.000000</td>\n",
       "    </tr>\n",
       "  </tbody>\n",
       "</table>\n",
       "</div>"
      ],
      "text/plain": [
       "              Step  Biweekly High Rate  Biweekly Low Rate   Union Code  \\\n",
       "count  1356.000000         1356.000000        1356.000000  1356.000000   \n",
       "mean      1.294985         3161.727021        3754.652006   392.676991   \n",
       "std       1.045816         1481.002904        1605.157054   338.100562   \n",
       "min       1.000000            0.000000           0.000000     1.000000   \n",
       "25%       1.000000         2145.000000        2607.000000    21.000000   \n",
       "50%       1.000000         2856.500000        3465.000000   351.000000   \n",
       "75%       1.000000         3703.000000        4484.000000   790.000000   \n",
       "max       5.000000        12120.770000       12120.770000   990.000000   \n",
       "\n",
       "       Extended Step  \n",
       "count    1356.000000  \n",
       "mean        0.150442  \n",
       "std         1.006734  \n",
       "min         0.000000  \n",
       "25%         0.000000  \n",
       "50%         0.000000  \n",
       "75%         0.000000  \n",
       "max        11.000000  "
      ]
     },
     "execution_count": 8,
     "metadata": {},
     "output_type": "execute_result"
    }
   ],
   "source": [
    "# Show descriptive stats\n",
    "salary_ranges.describe()"
   ]
  },
  {
   "cell_type": "markdown",
   "metadata": {},
   "source": [
    "## Data Cleaning"
   ]
  },
  {
   "cell_type": "markdown",
   "metadata": {},
   "source": [
    "### Quantitative data"
   ]
  },
  {
   "cell_type": "code",
   "execution_count": 11,
   "metadata": {},
   "outputs": [],
   "source": [
    "# If there is '$' in both 'Biweekly High Rate' and 'Biweekly Low Rate' columns (the old dataset, not my case), \n",
    "# We need to clean our Biweekly High and Low Rate columns to remove the dollar sign in order to visualize\n",
    "# salary_ranges['Biweekly High Rate'] = salary_ranges['Biweekly High Rate'].map(lambda value: value.replace('$', ''))\n",
    "# salary_ranges['Biweekly Low Rate'] = salary_ranges['Biweekly Low Rate'].map(lambda value: value.replace('$', ''))\n",
    "# Check to see the '$' has been removed\n",
    "# salary_ranges.head(2)"
   ]
  },
  {
   "cell_type": "code",
   "execution_count": null,
   "metadata": {},
   "outputs": [],
   "source": [
    "# Convert the Biweekly columns to float (in my case, they already are)\n",
    "# salary_ranges['Biweekly High Rate'] = salary_ranges['Biweekly High Rate'].astype(float)\n",
    "# salary_ranges['Biweekly Low Rate'] = salary_ranges['Biweekly Low Rate'].astype(float)"
   ]
  },
  {
   "cell_type": "markdown",
   "metadata": {},
   "source": [
    "### Qualitatvie data"
   ]
  },
  {
   "cell_type": "code",
   "execution_count": 15,
   "metadata": {},
   "outputs": [],
   "source": [
    "# Convert Job Code, Grade, Sal Plan, Pay Type to str\n",
    "salary_ranges['Job Code'] = salary_ranges['Job Code'].astype(str)\n",
    "salary_ranges['Grade'] = salary_ranges['Grade'].astype(str)\n",
    "salary_ranges['Sal Plan'] = salary_ranges['Sal Plan'].astype(str)\n",
    "salary_ranges['Pay Type'] = salary_ranges['Pay Type'].astype(str)"
   ]
  },
  {
   "cell_type": "code",
   "execution_count": 14,
   "metadata": {},
   "outputs": [],
   "source": [
    "# Convert Eff Date and Sal End Date to datetime\n",
    "salary_ranges['Eff Date'] = pd.to_datetime(salary_ranges['Eff Date'])\n",
    "salary_ranges['Sal End Date'] = pd.to_datetime(salary_ranges['Sal End Date'])"
   ]
  },
  {
   "cell_type": "code",
   "execution_count": 17,
   "metadata": {},
   "outputs": [
    {
     "name": "stdout",
     "output_type": "stream",
     "text": [
      "<class 'pandas.core.frame.DataFrame'>\n",
      "RangeIndex: 1356 entries, 0 to 1355\n",
      "Data columns (total 13 columns):\n",
      "SetID                 1356 non-null object\n",
      "Job Code              1356 non-null object\n",
      "Eff Date              1356 non-null datetime64[ns]\n",
      "Sal End Date          1356 non-null datetime64[ns]\n",
      "Salary SetID          1356 non-null object\n",
      "Sal Plan              1356 non-null object\n",
      "Grade                 1356 non-null object\n",
      "Step                  1356 non-null int64\n",
      "Biweekly High Rate    1356 non-null float64\n",
      "Biweekly Low Rate     1356 non-null float64\n",
      "Union Code            1356 non-null int64\n",
      "Extended Step         1356 non-null int64\n",
      "Pay Type              1356 non-null object\n",
      "dtypes: datetime64[ns](2), float64(2), int64(3), object(6)\n",
      "memory usage: 137.8+ KB\n"
     ]
    }
   ],
   "source": [
    "# Check to see if converting the data types worked\n",
    "salary_ranges.info()"
   ]
  },
  {
   "cell_type": "code",
   "execution_count": 19,
   "metadata": {},
   "outputs": [
    {
     "data": {
      "text/html": [
       "<div>\n",
       "<style scoped>\n",
       "    .dataframe tbody tr th:only-of-type {\n",
       "        vertical-align: middle;\n",
       "    }\n",
       "\n",
       "    .dataframe tbody tr th {\n",
       "        vertical-align: top;\n",
       "    }\n",
       "\n",
       "    .dataframe thead th {\n",
       "        text-align: right;\n",
       "    }\n",
       "</style>\n",
       "<table border=\"1\" class=\"dataframe\">\n",
       "  <thead>\n",
       "    <tr style=\"text-align: right;\">\n",
       "      <th></th>\n",
       "      <th>Step</th>\n",
       "      <th>Biweekly High Rate</th>\n",
       "      <th>Biweekly Low Rate</th>\n",
       "      <th>Union Code</th>\n",
       "      <th>Extended Step</th>\n",
       "    </tr>\n",
       "  </thead>\n",
       "  <tbody>\n",
       "    <tr>\n",
       "      <th>count</th>\n",
       "      <td>1356.000000</td>\n",
       "      <td>1356.000000</td>\n",
       "      <td>1356.000000</td>\n",
       "      <td>1356.000000</td>\n",
       "      <td>1356.000000</td>\n",
       "    </tr>\n",
       "    <tr>\n",
       "      <th>mean</th>\n",
       "      <td>1.294985</td>\n",
       "      <td>3161.727021</td>\n",
       "      <td>3754.652006</td>\n",
       "      <td>392.676991</td>\n",
       "      <td>0.150442</td>\n",
       "    </tr>\n",
       "    <tr>\n",
       "      <th>std</th>\n",
       "      <td>1.045816</td>\n",
       "      <td>1481.002904</td>\n",
       "      <td>1605.157054</td>\n",
       "      <td>338.100562</td>\n",
       "      <td>1.006734</td>\n",
       "    </tr>\n",
       "    <tr>\n",
       "      <th>min</th>\n",
       "      <td>1.000000</td>\n",
       "      <td>0.000000</td>\n",
       "      <td>0.000000</td>\n",
       "      <td>1.000000</td>\n",
       "      <td>0.000000</td>\n",
       "    </tr>\n",
       "    <tr>\n",
       "      <th>25%</th>\n",
       "      <td>1.000000</td>\n",
       "      <td>2145.000000</td>\n",
       "      <td>2607.000000</td>\n",
       "      <td>21.000000</td>\n",
       "      <td>0.000000</td>\n",
       "    </tr>\n",
       "    <tr>\n",
       "      <th>50%</th>\n",
       "      <td>1.000000</td>\n",
       "      <td>2856.500000</td>\n",
       "      <td>3465.000000</td>\n",
       "      <td>351.000000</td>\n",
       "      <td>0.000000</td>\n",
       "    </tr>\n",
       "    <tr>\n",
       "      <th>75%</th>\n",
       "      <td>1.000000</td>\n",
       "      <td>3703.000000</td>\n",
       "      <td>4484.000000</td>\n",
       "      <td>790.000000</td>\n",
       "      <td>0.000000</td>\n",
       "    </tr>\n",
       "    <tr>\n",
       "      <th>max</th>\n",
       "      <td>5.000000</td>\n",
       "      <td>12120.770000</td>\n",
       "      <td>12120.770000</td>\n",
       "      <td>990.000000</td>\n",
       "      <td>11.000000</td>\n",
       "    </tr>\n",
       "  </tbody>\n",
       "</table>\n",
       "</div>"
      ],
      "text/plain": [
       "              Step  Biweekly High Rate  Biweekly Low Rate   Union Code  \\\n",
       "count  1356.000000         1356.000000        1356.000000  1356.000000   \n",
       "mean      1.294985         3161.727021        3754.652006   392.676991   \n",
       "std       1.045816         1481.002904        1605.157054   338.100562   \n",
       "min       1.000000            0.000000           0.000000     1.000000   \n",
       "25%       1.000000         2145.000000        2607.000000    21.000000   \n",
       "50%       1.000000         2856.500000        3465.000000   351.000000   \n",
       "75%       1.000000         3703.000000        4484.000000   790.000000   \n",
       "max       5.000000        12120.770000       12120.770000   990.000000   \n",
       "\n",
       "       Extended Step  \n",
       "count    1356.000000  \n",
       "mean        0.150442  \n",
       "std         1.006734  \n",
       "min         0.000000  \n",
       "25%         0.000000  \n",
       "50%         0.000000  \n",
       "75%         0.000000  \n",
       "max        11.000000  "
      ]
     },
     "execution_count": 19,
     "metadata": {},
     "output_type": "execute_result"
    }
   ],
   "source": [
    "salary_ranges.describe()"
   ]
  },
  {
   "cell_type": "markdown",
   "metadata": {},
   "source": [
    "## Data Visualization"
   ]
  },
  {
   "cell_type": "markdown",
   "metadata": {},
   "source": [
    "### Quantitative data"
   ]
  },
  {
   "cell_type": "code",
   "execution_count": 20,
   "metadata": {
    "scrolled": false
   },
   "outputs": [
    {
     "data": {
      "text/plain": [
       "<matplotlib.axes._subplots.AxesSubplot at 0x7fb5fd3c5550>"
      ]
     },
     "execution_count": 20,
     "metadata": {},
     "output_type": "execute_result"
    },
    {
     "data": {
      "image/png": "[encoded data removed]",
      "text/plain": [
       "<Figure size 432x288 with 2 Axes>"
      ]
     },
     "metadata": {},
     "output_type": "display_data"
    }
   ],
   "source": [
    "# Show the correlation heatmap of the data to get a better sense of what we are looking at\n",
    "sns.heatmap(salary_ranges.corr())\n",
    "# No correlation across the data. "
   ]
  },
  {
   "cell_type": "markdown",
   "metadata": {},
   "source": [
    "### Qualitative data"
   ]
  },
  {
   "cell_type": "code",
   "execution_count": 28,
   "metadata": {},
   "outputs": [],
   "source": [
    "# Because there is little correlation, read the headers again and check the number of unique elements for each column of interest."
   ]
  },
  {
   "cell_type": "code",
   "execution_count": 22,
   "metadata": {},
   "outputs": [
    {
     "data": {
      "text/plain": [
       "1268"
      ]
     },
     "execution_count": 22,
     "metadata": {},
     "output_type": "execute_result"
    }
   ],
   "source": [
    "salary_ranges['Job Code'].nunique()"
   ]
  },
  {
   "cell_type": "code",
   "execution_count": 23,
   "metadata": {},
   "outputs": [
    {
     "data": {
      "text/plain": [
       "6"
      ]
     },
     "execution_count": 23,
     "metadata": {},
     "output_type": "execute_result"
    }
   ],
   "source": [
    "salary_ranges['Eff Date'].nunique()"
   ]
  },
  {
   "cell_type": "code",
   "execution_count": 24,
   "metadata": {},
   "outputs": [
    {
     "data": {
      "text/plain": [
       "6"
      ]
     },
     "execution_count": 24,
     "metadata": {},
     "output_type": "execute_result"
    }
   ],
   "source": [
    "salary_ranges['Sal End Date'].nunique()"
   ]
  },
  {
   "cell_type": "code",
   "execution_count": 25,
   "metadata": {},
   "outputs": [
    {
     "data": {
      "text/plain": [
       "688"
      ]
     },
     "execution_count": 25,
     "metadata": {},
     "output_type": "execute_result"
    }
   ],
   "source": [
    "salary_ranges['Grade'].nunique()"
   ]
  },
  {
   "cell_type": "code",
   "execution_count": 26,
   "metadata": {},
   "outputs": [
    {
     "data": {
      "text/plain": [
       "6"
      ]
     },
     "execution_count": 26,
     "metadata": {},
     "output_type": "execute_result"
    }
   ],
   "source": [
    "salary_ranges['Pay Type'].nunique()"
   ]
  },
  {
   "cell_type": "code",
   "execution_count": 27,
   "metadata": {},
   "outputs": [
    {
     "data": {
      "text/plain": [
       "1"
      ]
     },
     "execution_count": 27,
     "metadata": {},
     "output_type": "execute_result"
    }
   ],
   "source": [
    "salary_ranges['Sal Plan'].nunique()"
   ]
  },
  {
   "cell_type": "markdown",
   "metadata": {},
   "source": [
    "### Ratio level"
   ]
  },
  {
   "cell_type": "markdown",
   "metadata": {},
   "source": [
    "The four levels of data:\n",
    "1. <b>The nominal level:</b> Discrete, orderless\n",
    "2. <b>The ordinal level:</b> Ordered, categories, comparisions\n",
    "3. <b>The interval level:</b> Differences between ordered values have meaning\n",
    "4. <b>The ratio level:</b> Continuous true 0 allows ratio statements"
   ]
  },
  {
   "cell_type": "code",
   "execution_count": 34,
   "metadata": {},
   "outputs": [
    {
     "data": {
      "text/plain": [
       "Text(0.5,1,'Top 20 Grade by Max Biweekly High Rate')"
      ]
     },
     "execution_count": 34,
     "metadata": {},
     "output_type": "execute_result"
    },
    {
     "data": {
      "image/png": "[encoded data removed]",
      "text/plain": [
       "<Figure size 1080x360 with 1 Axes>"
      ]
     },
     "metadata": {},
     "output_type": "display_data"
    }
   ],
   "source": [
    "# Which Grade has the maximum Biweekly high rate\n",
    "fig = plt.figure(figsize=(15,5))\n",
    "ax = fig.gca()\n",
    "\n",
    "salary_ranges.groupby('Grade')[['Biweekly High Rate']].max().sort_values(\n",
    "    'Biweekly High Rate', ascending=False).head(20).plot.bar(stacked=False, ax=ax, color='darkorange')\n",
    "ax.set_title('Top 20 Grade by Max Biweekly High Rate')"
   ]
  },
  {
   "cell_type": "code",
   "execution_count": 35,
   "metadata": {},
   "outputs": [
    {
     "data": {
      "text/plain": [
       "Text(0.5,1,'Top 20 Grade by Mean Biweekly High Rate')"
      ]
     },
     "execution_count": 35,
     "metadata": {},
     "output_type": "execute_result"
    },
    {
     "data": {
      "image/png": "[encoded data removed]",
      "text/plain": [
       "<Figure size 1080x360 with 1 Axes>"
      ]
     },
     "metadata": {},
     "output_type": "display_data"
    }
   ],
   "source": [
    "# What is the average rate across all of the Grades\n",
    "fig = plt.figure(figsize=(15,5))\n",
    "ax = fig.gca()\n",
    "\n",
    "salary_ranges.groupby('Grade')[['Biweekly High Rate']].mean().sort_values(\n",
    "    'Biweekly High Rate', ascending=False).head(20).plot.bar(stacked=False, ax=ax, color='darkorange')\n",
    "ax.set_title('Top 20 Grade by Mean Biweekly High Rate')"
   ]
  },
  {
   "cell_type": "code",
   "execution_count": 36,
   "metadata": {
    "scrolled": true
   },
   "outputs": [
    {
     "data": {
      "text/plain": [
       "Text(0.5,1,'Top 20 Grade by Min Biweekly High Rate')"
      ]
     },
     "execution_count": 36,
     "metadata": {},
     "output_type": "execute_result"
    },
    {
     "data": {
      "image/png": "[encoded data removed]",
      "text/plain": [
       "<Figure size 1080x360 with 1 Axes>"
      ]
     },
     "metadata": {},
     "output_type": "display_data"
    }
   ],
   "source": [
    "# Which Grade has the minimum Biweekly high rate\n",
    "fig = plt.figure(figsize=(15,5))\n",
    "ax = fig.gca()\n",
    "\n",
    "salary_ranges.groupby('Grade')[['Biweekly High Rate']].max().sort_values(\n",
    "    'Biweekly High Rate', ascending=True).head(20).plot.bar(stacked=False, ax=ax, color='darkorange')\n",
    "ax.set_title('Top 20 Grade by Min Biweekly High Rate')"
   ]
  }
 ],
 "metadata": {
  "kernelspec": {
   "display_name": "Python 3",
   "language": "python",
   "name": "python3"
  },
  "language_info": {
   "codemirror_mode": {
    "name": "ipython",
    "version": 3
   },
   "file_extension": ".py",
   "mimetype": "text/x-python",
   "name": "python",
   "nbconvert_exporter": "python",
   "pygments_lexer": "ipython3",
   "version": "3.5.2"
  }
 },
 "nbformat": 4,
 "nbformat_minor": 2
}
